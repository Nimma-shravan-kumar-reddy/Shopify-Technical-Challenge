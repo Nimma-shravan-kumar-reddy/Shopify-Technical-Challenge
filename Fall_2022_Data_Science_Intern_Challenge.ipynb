{
  "nbformat": 4,
  "nbformat_minor": 0,
  "metadata": {
    "colab": {
      "name": "Fall 2022 Data Science Intern Challenge.ipynb",
      "provenance": [],
      "collapsed_sections": []
    },
    "kernelspec": {
      "name": "python3",
      "display_name": "Python 3"
    },
    "language_info": {
      "name": "python"
    }
  },
  "cells": [
    {
      "cell_type": "markdown",
      "source": [
        "## **Question 1**"
      ],
      "metadata": {
        "id": "1onYJ3L9f0v5"
      }
    },
    {
      "cell_type": "code",
      "execution_count": 5,
      "metadata": {
        "colab": {
          "base_uri": "https://localhost:8080/",
          "height": 206
        },
        "id": "3_nK6zTzbpgw",
        "outputId": "1aaf9b72-908d-4104-f91b-09b7c4227861"
      },
      "outputs": [
        {
          "output_type": "execute_result",
          "data": {
            "text/plain": [
              "   order_id  shop_id  user_id  order_amount  total_items payment_method  \\\n",
              "0         1       53      746           224            2           cash   \n",
              "1         2       92      925            90            1           cash   \n",
              "2         3       44      861           144            1           cash   \n",
              "3         4       18      935           156            1    credit_card   \n",
              "4         5       18      883           156            1    credit_card   \n",
              "\n",
              "            created_at  \n",
              "0  2017-03-13 12:36:56  \n",
              "1  2017-03-03 17:38:52  \n",
              "2   2017-03-14 4:23:56  \n",
              "3  2017-03-26 12:43:37  \n",
              "4   2017-03-01 4:35:11  "
            ],
            "text/html": [
              "\n",
              "  <div id=\"df-d14c9422-b539-4f64-bc44-b3f594ffcd2f\">\n",
              "    <div class=\"colab-df-container\">\n",
              "      <div>\n",
              "<style scoped>\n",
              "    .dataframe tbody tr th:only-of-type {\n",
              "        vertical-align: middle;\n",
              "    }\n",
              "\n",
              "    .dataframe tbody tr th {\n",
              "        vertical-align: top;\n",
              "    }\n",
              "\n",
              "    .dataframe thead th {\n",
              "        text-align: right;\n",
              "    }\n",
              "</style>\n",
              "<table border=\"1\" class=\"dataframe\">\n",
              "  <thead>\n",
              "    <tr style=\"text-align: right;\">\n",
              "      <th></th>\n",
              "      <th>order_id</th>\n",
              "      <th>shop_id</th>\n",
              "      <th>user_id</th>\n",
              "      <th>order_amount</th>\n",
              "      <th>total_items</th>\n",
              "      <th>payment_method</th>\n",
              "      <th>created_at</th>\n",
              "    </tr>\n",
              "  </thead>\n",
              "  <tbody>\n",
              "    <tr>\n",
              "      <th>0</th>\n",
              "      <td>1</td>\n",
              "      <td>53</td>\n",
              "      <td>746</td>\n",
              "      <td>224</td>\n",
              "      <td>2</td>\n",
              "      <td>cash</td>\n",
              "      <td>2017-03-13 12:36:56</td>\n",
              "    </tr>\n",
              "    <tr>\n",
              "      <th>1</th>\n",
              "      <td>2</td>\n",
              "      <td>92</td>\n",
              "      <td>925</td>\n",
              "      <td>90</td>\n",
              "      <td>1</td>\n",
              "      <td>cash</td>\n",
              "      <td>2017-03-03 17:38:52</td>\n",
              "    </tr>\n",
              "    <tr>\n",
              "      <th>2</th>\n",
              "      <td>3</td>\n",
              "      <td>44</td>\n",
              "      <td>861</td>\n",
              "      <td>144</td>\n",
              "      <td>1</td>\n",
              "      <td>cash</td>\n",
              "      <td>2017-03-14 4:23:56</td>\n",
              "    </tr>\n",
              "    <tr>\n",
              "      <th>3</th>\n",
              "      <td>4</td>\n",
              "      <td>18</td>\n",
              "      <td>935</td>\n",
              "      <td>156</td>\n",
              "      <td>1</td>\n",
              "      <td>credit_card</td>\n",
              "      <td>2017-03-26 12:43:37</td>\n",
              "    </tr>\n",
              "    <tr>\n",
              "      <th>4</th>\n",
              "      <td>5</td>\n",
              "      <td>18</td>\n",
              "      <td>883</td>\n",
              "      <td>156</td>\n",
              "      <td>1</td>\n",
              "      <td>credit_card</td>\n",
              "      <td>2017-03-01 4:35:11</td>\n",
              "    </tr>\n",
              "  </tbody>\n",
              "</table>\n",
              "</div>\n",
              "      <button class=\"colab-df-convert\" onclick=\"convertToInteractive('df-d14c9422-b539-4f64-bc44-b3f594ffcd2f')\"\n",
              "              title=\"Convert this dataframe to an interactive table.\"\n",
              "              style=\"display:none;\">\n",
              "        \n",
              "  <svg xmlns=\"http://www.w3.org/2000/svg\" height=\"24px\"viewBox=\"0 0 24 24\"\n",
              "       width=\"24px\">\n",
              "    <path d=\"M0 0h24v24H0V0z\" fill=\"none\"/>\n",
              "    <path d=\"M18.56 5.44l.94 2.06.94-2.06 2.06-.94-2.06-.94-.94-2.06-.94 2.06-2.06.94zm-11 1L8.5 8.5l.94-2.06 2.06-.94-2.06-.94L8.5 2.5l-.94 2.06-2.06.94zm10 10l.94 2.06.94-2.06 2.06-.94-2.06-.94-.94-2.06-.94 2.06-2.06.94z\"/><path d=\"M17.41 7.96l-1.37-1.37c-.4-.4-.92-.59-1.43-.59-.52 0-1.04.2-1.43.59L10.3 9.45l-7.72 7.72c-.78.78-.78 2.05 0 2.83L4 21.41c.39.39.9.59 1.41.59.51 0 1.02-.2 1.41-.59l7.78-7.78 2.81-2.81c.8-.78.8-2.07 0-2.86zM5.41 20L4 18.59l7.72-7.72 1.47 1.35L5.41 20z\"/>\n",
              "  </svg>\n",
              "      </button>\n",
              "      \n",
              "  <style>\n",
              "    .colab-df-container {\n",
              "      display:flex;\n",
              "      flex-wrap:wrap;\n",
              "      gap: 12px;\n",
              "    }\n",
              "\n",
              "    .colab-df-convert {\n",
              "      background-color: #E8F0FE;\n",
              "      border: none;\n",
              "      border-radius: 50%;\n",
              "      cursor: pointer;\n",
              "      display: none;\n",
              "      fill: #1967D2;\n",
              "      height: 32px;\n",
              "      padding: 0 0 0 0;\n",
              "      width: 32px;\n",
              "    }\n",
              "\n",
              "    .colab-df-convert:hover {\n",
              "      background-color: #E2EBFA;\n",
              "      box-shadow: 0px 1px 2px rgba(60, 64, 67, 0.3), 0px 1px 3px 1px rgba(60, 64, 67, 0.15);\n",
              "      fill: #174EA6;\n",
              "    }\n",
              "\n",
              "    [theme=dark] .colab-df-convert {\n",
              "      background-color: #3B4455;\n",
              "      fill: #D2E3FC;\n",
              "    }\n",
              "\n",
              "    [theme=dark] .colab-df-convert:hover {\n",
              "      background-color: #434B5C;\n",
              "      box-shadow: 0px 1px 3px 1px rgba(0, 0, 0, 0.15);\n",
              "      filter: drop-shadow(0px 1px 2px rgba(0, 0, 0, 0.3));\n",
              "      fill: #FFFFFF;\n",
              "    }\n",
              "  </style>\n",
              "\n",
              "      <script>\n",
              "        const buttonEl =\n",
              "          document.querySelector('#df-d14c9422-b539-4f64-bc44-b3f594ffcd2f button.colab-df-convert');\n",
              "        buttonEl.style.display =\n",
              "          google.colab.kernel.accessAllowed ? 'block' : 'none';\n",
              "\n",
              "        async function convertToInteractive(key) {\n",
              "          const element = document.querySelector('#df-d14c9422-b539-4f64-bc44-b3f594ffcd2f');\n",
              "          const dataTable =\n",
              "            await google.colab.kernel.invokeFunction('convertToInteractive',\n",
              "                                                     [key], {});\n",
              "          if (!dataTable) return;\n",
              "\n",
              "          const docLinkHtml = 'Like what you see? Visit the ' +\n",
              "            '<a target=\"_blank\" href=https://colab.research.google.com/notebooks/data_table.ipynb>data table notebook</a>'\n",
              "            + ' to learn more about interactive tables.';\n",
              "          element.innerHTML = '';\n",
              "          dataTable['output_type'] = 'display_data';\n",
              "          await google.colab.output.renderOutput(dataTable, element);\n",
              "          const docLink = document.createElement('div');\n",
              "          docLink.innerHTML = docLinkHtml;\n",
              "          element.appendChild(docLink);\n",
              "        }\n",
              "      </script>\n",
              "    </div>\n",
              "  </div>\n",
              "  "
            ]
          },
          "metadata": {},
          "execution_count": 5
        }
      ],
      "source": [
        "# Reading the sample data\n",
        "import pandas as pd\n",
        "data = pd.read_csv(\"/content/2019 Winter Data Science Intern Challenge Data Set - Sheet1.csv\")\n",
        "data.head()"
      ]
    },
    {
      "cell_type": "code",
      "source": [
        "# Data cleaning (handling missing data)\n",
        "data.isna().any()"
      ],
      "metadata": {
        "colab": {
          "base_uri": "https://localhost:8080/",
          "height": 0
        },
        "id": "j90X_VDRdZ9M",
        "outputId": "40f03958-9881-456b-9a2b-8e27439323d3"
      },
      "execution_count": 8,
      "outputs": [
        {
          "output_type": "execute_result",
          "data": {
            "text/plain": [
              "order_id          False\n",
              "shop_id           False\n",
              "user_id           False\n",
              "order_amount      False\n",
              "total_items       False\n",
              "payment_method    False\n",
              "created_at        False\n",
              "dtype: bool"
            ]
          },
          "metadata": {},
          "execution_count": 8
        }
      ]
    },
    {
      "cell_type": "code",
      "source": [
        "data.describe()"
      ],
      "metadata": {
        "colab": {
          "base_uri": "https://localhost:8080/",
          "height": 300
        },
        "id": "EDY0xQn4eRVn",
        "outputId": "a1a6653c-dfe2-4c1e-f9c0-769a7db98943"
      },
      "execution_count": 10,
      "outputs": [
        {
          "output_type": "execute_result",
          "data": {
            "text/plain": [
              "          order_id      shop_id      user_id   order_amount  total_items\n",
              "count  5000.000000  5000.000000  5000.000000    5000.000000   5000.00000\n",
              "mean   2500.500000    50.078800   849.092400    3145.128000      8.78720\n",
              "std    1443.520003    29.006118    87.798982   41282.539349    116.32032\n",
              "min       1.000000     1.000000   607.000000      90.000000      1.00000\n",
              "25%    1250.750000    24.000000   775.000000     163.000000      1.00000\n",
              "50%    2500.500000    50.000000   849.000000     284.000000      2.00000\n",
              "75%    3750.250000    75.000000   925.000000     390.000000      3.00000\n",
              "max    5000.000000   100.000000   999.000000  704000.000000   2000.00000"
            ],
            "text/html": [
              "\n",
              "  <div id=\"df-1d2e159c-2e39-4c93-b802-1d1773b99b91\">\n",
              "    <div class=\"colab-df-container\">\n",
              "      <div>\n",
              "<style scoped>\n",
              "    .dataframe tbody tr th:only-of-type {\n",
              "        vertical-align: middle;\n",
              "    }\n",
              "\n",
              "    .dataframe tbody tr th {\n",
              "        vertical-align: top;\n",
              "    }\n",
              "\n",
              "    .dataframe thead th {\n",
              "        text-align: right;\n",
              "    }\n",
              "</style>\n",
              "<table border=\"1\" class=\"dataframe\">\n",
              "  <thead>\n",
              "    <tr style=\"text-align: right;\">\n",
              "      <th></th>\n",
              "      <th>order_id</th>\n",
              "      <th>shop_id</th>\n",
              "      <th>user_id</th>\n",
              "      <th>order_amount</th>\n",
              "      <th>total_items</th>\n",
              "    </tr>\n",
              "  </thead>\n",
              "  <tbody>\n",
              "    <tr>\n",
              "      <th>count</th>\n",
              "      <td>5000.000000</td>\n",
              "      <td>5000.000000</td>\n",
              "      <td>5000.000000</td>\n",
              "      <td>5000.000000</td>\n",
              "      <td>5000.00000</td>\n",
              "    </tr>\n",
              "    <tr>\n",
              "      <th>mean</th>\n",
              "      <td>2500.500000</td>\n",
              "      <td>50.078800</td>\n",
              "      <td>849.092400</td>\n",
              "      <td>3145.128000</td>\n",
              "      <td>8.78720</td>\n",
              "    </tr>\n",
              "    <tr>\n",
              "      <th>std</th>\n",
              "      <td>1443.520003</td>\n",
              "      <td>29.006118</td>\n",
              "      <td>87.798982</td>\n",
              "      <td>41282.539349</td>\n",
              "      <td>116.32032</td>\n",
              "    </tr>\n",
              "    <tr>\n",
              "      <th>min</th>\n",
              "      <td>1.000000</td>\n",
              "      <td>1.000000</td>\n",
              "      <td>607.000000</td>\n",
              "      <td>90.000000</td>\n",
              "      <td>1.00000</td>\n",
              "    </tr>\n",
              "    <tr>\n",
              "      <th>25%</th>\n",
              "      <td>1250.750000</td>\n",
              "      <td>24.000000</td>\n",
              "      <td>775.000000</td>\n",
              "      <td>163.000000</td>\n",
              "      <td>1.00000</td>\n",
              "    </tr>\n",
              "    <tr>\n",
              "      <th>50%</th>\n",
              "      <td>2500.500000</td>\n",
              "      <td>50.000000</td>\n",
              "      <td>849.000000</td>\n",
              "      <td>284.000000</td>\n",
              "      <td>2.00000</td>\n",
              "    </tr>\n",
              "    <tr>\n",
              "      <th>75%</th>\n",
              "      <td>3750.250000</td>\n",
              "      <td>75.000000</td>\n",
              "      <td>925.000000</td>\n",
              "      <td>390.000000</td>\n",
              "      <td>3.00000</td>\n",
              "    </tr>\n",
              "    <tr>\n",
              "      <th>max</th>\n",
              "      <td>5000.000000</td>\n",
              "      <td>100.000000</td>\n",
              "      <td>999.000000</td>\n",
              "      <td>704000.000000</td>\n",
              "      <td>2000.00000</td>\n",
              "    </tr>\n",
              "  </tbody>\n",
              "</table>\n",
              "</div>\n",
              "      <button class=\"colab-df-convert\" onclick=\"convertToInteractive('df-1d2e159c-2e39-4c93-b802-1d1773b99b91')\"\n",
              "              title=\"Convert this dataframe to an interactive table.\"\n",
              "              style=\"display:none;\">\n",
              "        \n",
              "  <svg xmlns=\"http://www.w3.org/2000/svg\" height=\"24px\"viewBox=\"0 0 24 24\"\n",
              "       width=\"24px\">\n",
              "    <path d=\"M0 0h24v24H0V0z\" fill=\"none\"/>\n",
              "    <path d=\"M18.56 5.44l.94 2.06.94-2.06 2.06-.94-2.06-.94-.94-2.06-.94 2.06-2.06.94zm-11 1L8.5 8.5l.94-2.06 2.06-.94-2.06-.94L8.5 2.5l-.94 2.06-2.06.94zm10 10l.94 2.06.94-2.06 2.06-.94-2.06-.94-.94-2.06-.94 2.06-2.06.94z\"/><path d=\"M17.41 7.96l-1.37-1.37c-.4-.4-.92-.59-1.43-.59-.52 0-1.04.2-1.43.59L10.3 9.45l-7.72 7.72c-.78.78-.78 2.05 0 2.83L4 21.41c.39.39.9.59 1.41.59.51 0 1.02-.2 1.41-.59l7.78-7.78 2.81-2.81c.8-.78.8-2.07 0-2.86zM5.41 20L4 18.59l7.72-7.72 1.47 1.35L5.41 20z\"/>\n",
              "  </svg>\n",
              "      </button>\n",
              "      \n",
              "  <style>\n",
              "    .colab-df-container {\n",
              "      display:flex;\n",
              "      flex-wrap:wrap;\n",
              "      gap: 12px;\n",
              "    }\n",
              "\n",
              "    .colab-df-convert {\n",
              "      background-color: #E8F0FE;\n",
              "      border: none;\n",
              "      border-radius: 50%;\n",
              "      cursor: pointer;\n",
              "      display: none;\n",
              "      fill: #1967D2;\n",
              "      height: 32px;\n",
              "      padding: 0 0 0 0;\n",
              "      width: 32px;\n",
              "    }\n",
              "\n",
              "    .colab-df-convert:hover {\n",
              "      background-color: #E2EBFA;\n",
              "      box-shadow: 0px 1px 2px rgba(60, 64, 67, 0.3), 0px 1px 3px 1px rgba(60, 64, 67, 0.15);\n",
              "      fill: #174EA6;\n",
              "    }\n",
              "\n",
              "    [theme=dark] .colab-df-convert {\n",
              "      background-color: #3B4455;\n",
              "      fill: #D2E3FC;\n",
              "    }\n",
              "\n",
              "    [theme=dark] .colab-df-convert:hover {\n",
              "      background-color: #434B5C;\n",
              "      box-shadow: 0px 1px 3px 1px rgba(0, 0, 0, 0.15);\n",
              "      filter: drop-shadow(0px 1px 2px rgba(0, 0, 0, 0.3));\n",
              "      fill: #FFFFFF;\n",
              "    }\n",
              "  </style>\n",
              "\n",
              "      <script>\n",
              "        const buttonEl =\n",
              "          document.querySelector('#df-1d2e159c-2e39-4c93-b802-1d1773b99b91 button.colab-df-convert');\n",
              "        buttonEl.style.display =\n",
              "          google.colab.kernel.accessAllowed ? 'block' : 'none';\n",
              "\n",
              "        async function convertToInteractive(key) {\n",
              "          const element = document.querySelector('#df-1d2e159c-2e39-4c93-b802-1d1773b99b91');\n",
              "          const dataTable =\n",
              "            await google.colab.kernel.invokeFunction('convertToInteractive',\n",
              "                                                     [key], {});\n",
              "          if (!dataTable) return;\n",
              "\n",
              "          const docLinkHtml = 'Like what you see? Visit the ' +\n",
              "            '<a target=\"_blank\" href=https://colab.research.google.com/notebooks/data_table.ipynb>data table notebook</a>'\n",
              "            + ' to learn more about interactive tables.';\n",
              "          element.innerHTML = '';\n",
              "          dataTable['output_type'] = 'display_data';\n",
              "          await google.colab.output.renderOutput(dataTable, element);\n",
              "          const docLink = document.createElement('div');\n",
              "          docLink.innerHTML = docLinkHtml;\n",
              "          element.appendChild(docLink);\n",
              "        }\n",
              "      </script>\n",
              "    </div>\n",
              "  </div>\n",
              "  "
            ]
          },
          "metadata": {},
          "execution_count": 10
        }
      ]
    },
    {
      "cell_type": "markdown",
      "source": [
        "### The mean of order_amount is 3145.128 which is provided in the question. Here we can see there is a huge difference between min max values of order_amount which means it is possible that data has outlier."
      ],
      "metadata": {
        "id": "jXQYHhA2eiRu"
      }
    },
    {
      "cell_type": "markdown",
      "source": [
        "### **a. A Better Way to Evaluate Data.**"
      ],
      "metadata": {
        "id": "x7fswL8hgXo1"
      }
    },
    {
      "cell_type": "markdown",
      "source": [
        "### Let us calculate AOV by store(shop_id) first and visualize those values"
      ],
      "metadata": {
        "id": "Ug-eFM3YhcfA"
      }
    },
    {
      "cell_type": "code",
      "source": [
        "store = data.groupby(\"shop_id\").mean()\n",
        "store.sort_values(by=\"order_amount\",ascending=False).head()"
      ],
      "metadata": {
        "colab": {
          "base_uri": "https://localhost:8080/",
          "height": 237
        },
        "id": "FZvnhpCVgvA9",
        "outputId": "8e657ab7-09c7-4102-bddb-f72f1898f26b"
      },
      "execution_count": 31,
      "outputs": [
        {
          "output_type": "execute_result",
          "data": {
            "text/plain": [
              "            order_id     user_id   order_amount  total_items\n",
              "shop_id                                                     \n",
              "42       2441.921569  758.588235  235101.490196   667.901961\n",
              "78       2663.021739  867.739130   49213.043478     1.913043\n",
              "50       2162.431818  834.500000     403.545455     2.090909\n",
              "90       2694.163265  839.857143     403.224490     2.265306\n",
              "38       2639.714286  837.800000     390.857143     2.057143"
            ],
            "text/html": [
              "\n",
              "  <div id=\"df-46b8992b-de9a-4c74-93cf-88a1bd671b8f\">\n",
              "    <div class=\"colab-df-container\">\n",
              "      <div>\n",
              "<style scoped>\n",
              "    .dataframe tbody tr th:only-of-type {\n",
              "        vertical-align: middle;\n",
              "    }\n",
              "\n",
              "    .dataframe tbody tr th {\n",
              "        vertical-align: top;\n",
              "    }\n",
              "\n",
              "    .dataframe thead th {\n",
              "        text-align: right;\n",
              "    }\n",
              "</style>\n",
              "<table border=\"1\" class=\"dataframe\">\n",
              "  <thead>\n",
              "    <tr style=\"text-align: right;\">\n",
              "      <th></th>\n",
              "      <th>order_id</th>\n",
              "      <th>user_id</th>\n",
              "      <th>order_amount</th>\n",
              "      <th>total_items</th>\n",
              "    </tr>\n",
              "    <tr>\n",
              "      <th>shop_id</th>\n",
              "      <th></th>\n",
              "      <th></th>\n",
              "      <th></th>\n",
              "      <th></th>\n",
              "    </tr>\n",
              "  </thead>\n",
              "  <tbody>\n",
              "    <tr>\n",
              "      <th>42</th>\n",
              "      <td>2441.921569</td>\n",
              "      <td>758.588235</td>\n",
              "      <td>235101.490196</td>\n",
              "      <td>667.901961</td>\n",
              "    </tr>\n",
              "    <tr>\n",
              "      <th>78</th>\n",
              "      <td>2663.021739</td>\n",
              "      <td>867.739130</td>\n",
              "      <td>49213.043478</td>\n",
              "      <td>1.913043</td>\n",
              "    </tr>\n",
              "    <tr>\n",
              "      <th>50</th>\n",
              "      <td>2162.431818</td>\n",
              "      <td>834.500000</td>\n",
              "      <td>403.545455</td>\n",
              "      <td>2.090909</td>\n",
              "    </tr>\n",
              "    <tr>\n",
              "      <th>90</th>\n",
              "      <td>2694.163265</td>\n",
              "      <td>839.857143</td>\n",
              "      <td>403.224490</td>\n",
              "      <td>2.265306</td>\n",
              "    </tr>\n",
              "    <tr>\n",
              "      <th>38</th>\n",
              "      <td>2639.714286</td>\n",
              "      <td>837.800000</td>\n",
              "      <td>390.857143</td>\n",
              "      <td>2.057143</td>\n",
              "    </tr>\n",
              "  </tbody>\n",
              "</table>\n",
              "</div>\n",
              "      <button class=\"colab-df-convert\" onclick=\"convertToInteractive('df-46b8992b-de9a-4c74-93cf-88a1bd671b8f')\"\n",
              "              title=\"Convert this dataframe to an interactive table.\"\n",
              "              style=\"display:none;\">\n",
              "        \n",
              "  <svg xmlns=\"http://www.w3.org/2000/svg\" height=\"24px\"viewBox=\"0 0 24 24\"\n",
              "       width=\"24px\">\n",
              "    <path d=\"M0 0h24v24H0V0z\" fill=\"none\"/>\n",
              "    <path d=\"M18.56 5.44l.94 2.06.94-2.06 2.06-.94-2.06-.94-.94-2.06-.94 2.06-2.06.94zm-11 1L8.5 8.5l.94-2.06 2.06-.94-2.06-.94L8.5 2.5l-.94 2.06-2.06.94zm10 10l.94 2.06.94-2.06 2.06-.94-2.06-.94-.94-2.06-.94 2.06-2.06.94z\"/><path d=\"M17.41 7.96l-1.37-1.37c-.4-.4-.92-.59-1.43-.59-.52 0-1.04.2-1.43.59L10.3 9.45l-7.72 7.72c-.78.78-.78 2.05 0 2.83L4 21.41c.39.39.9.59 1.41.59.51 0 1.02-.2 1.41-.59l7.78-7.78 2.81-2.81c.8-.78.8-2.07 0-2.86zM5.41 20L4 18.59l7.72-7.72 1.47 1.35L5.41 20z\"/>\n",
              "  </svg>\n",
              "      </button>\n",
              "      \n",
              "  <style>\n",
              "    .colab-df-container {\n",
              "      display:flex;\n",
              "      flex-wrap:wrap;\n",
              "      gap: 12px;\n",
              "    }\n",
              "\n",
              "    .colab-df-convert {\n",
              "      background-color: #E8F0FE;\n",
              "      border: none;\n",
              "      border-radius: 50%;\n",
              "      cursor: pointer;\n",
              "      display: none;\n",
              "      fill: #1967D2;\n",
              "      height: 32px;\n",
              "      padding: 0 0 0 0;\n",
              "      width: 32px;\n",
              "    }\n",
              "\n",
              "    .colab-df-convert:hover {\n",
              "      background-color: #E2EBFA;\n",
              "      box-shadow: 0px 1px 2px rgba(60, 64, 67, 0.3), 0px 1px 3px 1px rgba(60, 64, 67, 0.15);\n",
              "      fill: #174EA6;\n",
              "    }\n",
              "\n",
              "    [theme=dark] .colab-df-convert {\n",
              "      background-color: #3B4455;\n",
              "      fill: #D2E3FC;\n",
              "    }\n",
              "\n",
              "    [theme=dark] .colab-df-convert:hover {\n",
              "      background-color: #434B5C;\n",
              "      box-shadow: 0px 1px 3px 1px rgba(0, 0, 0, 0.15);\n",
              "      filter: drop-shadow(0px 1px 2px rgba(0, 0, 0, 0.3));\n",
              "      fill: #FFFFFF;\n",
              "    }\n",
              "  </style>\n",
              "\n",
              "      <script>\n",
              "        const buttonEl =\n",
              "          document.querySelector('#df-46b8992b-de9a-4c74-93cf-88a1bd671b8f button.colab-df-convert');\n",
              "        buttonEl.style.display =\n",
              "          google.colab.kernel.accessAllowed ? 'block' : 'none';\n",
              "\n",
              "        async function convertToInteractive(key) {\n",
              "          const element = document.querySelector('#df-46b8992b-de9a-4c74-93cf-88a1bd671b8f');\n",
              "          const dataTable =\n",
              "            await google.colab.kernel.invokeFunction('convertToInteractive',\n",
              "                                                     [key], {});\n",
              "          if (!dataTable) return;\n",
              "\n",
              "          const docLinkHtml = 'Like what you see? Visit the ' +\n",
              "            '<a target=\"_blank\" href=https://colab.research.google.com/notebooks/data_table.ipynb>data table notebook</a>'\n",
              "            + ' to learn more about interactive tables.';\n",
              "          element.innerHTML = '';\n",
              "          dataTable['output_type'] = 'display_data';\n",
              "          await google.colab.output.renderOutput(dataTable, element);\n",
              "          const docLink = document.createElement('div');\n",
              "          docLink.innerHTML = docLinkHtml;\n",
              "          element.appendChild(docLink);\n",
              "        }\n",
              "      </script>\n",
              "    </div>\n",
              "  </div>\n",
              "  "
            ]
          },
          "metadata": {},
          "execution_count": 31
        }
      ]
    },
    {
      "cell_type": "code",
      "source": [
        "store.reset_index().plot.scatter(x='shop_id',y='order_amount')"
      ],
      "metadata": {
        "colab": {
          "base_uri": "https://localhost:8080/",
          "height": 298
        },
        "id": "0MiZcRrKj3u5",
        "outputId": "2e322d4e-32e3-4ba3-9c45-41631b9ca194"
      },
      "execution_count": 38,
      "outputs": [
        {
          "output_type": "execute_result",
          "data": {
            "text/plain": [
              "<matplotlib.axes._subplots.AxesSubplot at 0x7fb3155b62d0>"
            ]
          },
          "metadata": {},
          "execution_count": 38
        },
        {
          "output_type": "display_data",
          "data": {
            "text/plain": [
              "<Figure size 432x288 with 1 Axes>"
            ],
            "image/png": "[encoded data removed]"
          },
          "metadata": {
            "needs_background": "light"
          }
        }
      ]
    },
    {
      "cell_type": "code",
      "source": [
        "import matplotlib.pyplot as plt\n",
        "plt.boxplot(store['order_amount'])\n",
        "plt.ylabel(\"Average order value by shop\")"
      ],
      "metadata": {
        "colab": {
          "base_uri": "https://localhost:8080/",
          "height": 283
        },
        "id": "6R6yI8--nDRh",
        "outputId": "b1bbfc7e-63a5-4c49-abad-8583aabc1222"
      },
      "execution_count": 39,
      "outputs": [
        {
          "output_type": "execute_result",
          "data": {
            "text/plain": [
              "Text(0, 0.5, 'Average order value by shop')"
            ]
          },
          "metadata": {},
          "execution_count": 39
        },
        {
          "output_type": "display_data",
          "data": {
            "text/plain": [
              "<Figure size 432x288 with 1 Axes>"
            ],
            "image/png": "[encoded data removed]"
          },
          "metadata": {
            "needs_background": "light"
          }
        }
      ]
    },
    {
      "cell_type": "markdown",
      "source": [
        "### Here we can see there are two outliers which has impacted the mean. shop 42 and 78 have extreme average order values."
      ],
      "metadata": {
        "id": "prS-Of1epEHH"
      }
    },
    {
      "cell_type": "markdown",
      "source": [
        "## **b. What metric can be used then.**"
      ],
      "metadata": {
        "id": "7i2sNXFdpu5E"
      }
    },
    {
      "cell_type": "markdown",
      "source": [
        "### If these two values were either errors we can remove them but if they aren't then we could use median instead of mean which will only provide the middle most value instead of average value."
      ],
      "metadata": {
        "id": "2FWgzsukqIAV"
      }
    },
    {
      "cell_type": "markdown",
      "source": [
        "## **c. What is the value.**"
      ],
      "metadata": {
        "id": "ERb3VGW8quyA"
      }
    },
    {
      "cell_type": "code",
      "source": [
        "data['order_amount'].median()"
      ],
      "metadata": {
        "colab": {
          "base_uri": "https://localhost:8080/",
          "height": 0
        },
        "id": "fcDlfWDJpnWr",
        "outputId": "1bc980ca-33d2-4405-cd6e-d36234d75e3a"
      },
      "execution_count": 40,
      "outputs": [
        {
          "output_type": "execute_result",
          "data": {
            "text/plain": [
              "284.0"
            ]
          },
          "metadata": {},
          "execution_count": 40
        }
      ]
    },
    {
      "cell_type": "markdown",
      "source": [
        "### So $284 is the value that can be used instead of 3145.128"
      ],
      "metadata": {
        "id": "Jbqs3MbMrM0H"
      }
    },
    {
      "cell_type": "markdown",
      "source": [
        "## **Question 2**"
      ],
      "metadata": {
        "id": "hHFDrCYqry4W"
      }
    },
    {
      "cell_type": "markdown",
      "source": [
        "### **a. How many orders were shipped by Speedy Express in total?**"
      ],
      "metadata": {
        "id": "S-MQ_aU2sSVm"
      }
    },
    {
      "cell_type": "markdown",
      "source": [
        "### SELECT count(*) as orders_shipped_by_speedy_Express FROM Orders where ShipperID in (Select ShipperID from Shippers where ShipperName=\"Speedy Express\")"
      ],
      "metadata": {
        "id": "PNKZE5LuuCsS"
      }
    },
    {
      "cell_type": "markdown",
      "source": [
        "![q1.png](data:image/png;base64,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)\n",
        "\n"
      ],
      "metadata": {
        "id": "YetIb5CKuFpU"
      }
    },
    {
      "cell_type": "markdown",
      "source": [
        "## **b. What is the last name of the employee with the most orders?**"
      ],
      "metadata": {
        "id": "88AShpPEud_X"
      }
    },
    {
      "cell_type": "markdown",
      "source": [
        "### select LastName, count(*) as orders from Orders JOIN Employees on Orders.EmployeeID = Employees.EmployeeID group by LastName order by count(*) desc limit(1);"
      ],
      "metadata": {
        "id": "5XDQBSxauriR"
      }
    },
    {
      "cell_type": "markdown",
      "source": [
        "![q2.png](data:image/png;base64,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)"
      ],
      "metadata": {
        "id": "zdYR2UNhzX65"
      }
    },
    {
      "cell_type": "markdown",
      "source": [
        "### Peacock is the lastname of the employee with most orders"
      ],
      "metadata": {
        "id": "yceIa_-_ztfu"
      }
    },
    {
      "cell_type": "markdown",
      "source": [
        "## **c. What product was ordered the most by customers in Germany?**"
      ],
      "metadata": {
        "id": "My0o0FEpz4Xw"
      }
    },
    {
      "cell_type": "markdown",
      "source": [
        "### SELECT ProductName,sum(Quantity) as Quantity FROM OrderDetails Join Products on OrderDetails.ProductID = Products.ProductID where OrderID IN (Select Orders.OrderID from customers join Orders on Customers.CustomerID=Orders.CustomerID where Country='Germany' order by OrderID) group by Products.ProductID order by Quantity desc;"
      ],
      "metadata": {
        "id": "VfBX02-h0ASJ"
      }
    },
    {
      "cell_type": "markdown",
      "source": [
        "![q3.png](data:image/png;base64,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)"
      ],
      "metadata": {
        "id": "24WK_n0i4NGw"
      }
    }
  ]
}